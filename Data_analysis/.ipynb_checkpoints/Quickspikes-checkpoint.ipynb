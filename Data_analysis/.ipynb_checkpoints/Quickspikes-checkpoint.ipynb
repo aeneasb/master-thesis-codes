{
 "cells": [
  {
   "cell_type": "code",
   "execution_count": null,
   "metadata": {},
   "outputs": [],
   "source": [
    "from Tkinter import *\n",
    "import Tkinter, Tkconstants, tkFileDialog\n",
    "import Import_module as im\n",
    "import Filtering_module as fm\n",
    "\n",
    "import numpy as np \n",
    "\n",
    "import quickspikes as qs"
   ]
  },
  {
   "cell_type": "code",
   "execution_count": null,
   "metadata": {},
   "outputs": [],
   "source": [
    "#Let the user select a dataset and open the h5 file\n",
    "\n",
    "root = Tk()\n",
    "root.withdraw()#Remove the root window from the screen without removing it\n",
    "path = tkFileDialog.askopenfilename(initialdir = \"/home/user/Desktop/Data\")\n",
    "root.destroy()\n",
    "print path"
   ]
  },
  {
   "cell_type": "code",
   "execution_count": null,
   "metadata": {},
   "outputs": [],
   "source": [
    "root = Tk()\n",
    "root.withdraw()\n",
    "path = tkFileDialog.askdirectory(initialdir = \"/home/user/Desktop/Data\")\n",
    "root.destroy()\n",
    "print path"
   ]
  },
  {
   "cell_type": "code",
   "execution_count": null,
   "metadata": {},
   "outputs": [],
   "source": [
    "raw = im.import_rawdata(path,0,'end')"
   ]
  },
  {
   "cell_type": "code",
   "execution_count": null,
   "metadata": {},
   "outputs": [],
   "source": [
    "filtdat = fm.Filtering(raw)\n",
    "filtdat.butter_filter(300,3000)\n",
    "raw=None"
   ]
  },
  {
   "cell_type": "code",
   "execution_count": null,
   "metadata": {},
   "outputs": [],
   "source": [
    "#Quickspikes implementation\n",
    "det = qs.detector(np.std(filtdat.butter_data[103,:])*5,10)\n",
    "times=[]\n",
    "for i in filtdat.butter_data:\n",
    "    times.append(det.send(-1*i))"
   ]
  },
  {
   "cell_type": "code",
   "execution_count": null,
   "metadata": {},
   "outputs": [],
   "source": []
  },
  {
   "cell_type": "code",
   "execution_count": null,
   "metadata": {},
   "outputs": [],
   "source": [
    "f_times = qs.filter_times(times[103], 100, filtdat.butter_data[103,:].size - 100)\n",
    "spikes = qs.peaks(-1*filtdat.butter_data[103,:], f_times, 100, 100)\n",
    "times, aligned = qs.realign_spikes(f_times, spikes, upsample=3, jitter=6)"
   ]
  }
 ],
 "metadata": {
  "kernelspec": {
   "display_name": "Python 2",
   "language": "python",
   "name": "python2"
  },
  "language_info": {
   "codemirror_mode": {
    "name": "ipython",
    "version": 2
   },
   "file_extension": ".py",
   "mimetype": "text/x-python",
   "name": "python",
   "nbconvert_exporter": "python",
   "pygments_lexer": "ipython2",
   "version": "2.7.14"
  }
 },
 "nbformat": 4,
 "nbformat_minor": 2
}

{
 "cells": [
  {
   "cell_type": "code",
   "execution_count": 148,
   "metadata": {},
   "outputs": [
    {
     "ename": "ImportError",
     "evalue": "No module named easygui",
     "output_type": "error",
     "traceback": [
      "\u001b[0;31m---------------------------------------------------------------------------\u001b[0m",
      "\u001b[0;31mImportError\u001b[0m                               Traceback (most recent call last)",
      "\u001b[0;32m<ipython-input-148-af2ea04b9661>\u001b[0m in \u001b[0;36m<module>\u001b[0;34m()\u001b[0m\n\u001b[1;32m      7\u001b[0m \u001b[0;32mimport\u001b[0m \u001b[0mnumpy\u001b[0m \u001b[0;32mas\u001b[0m \u001b[0mnp\u001b[0m\u001b[0;34m\u001b[0m\u001b[0m\n\u001b[1;32m      8\u001b[0m \u001b[0;34m\u001b[0m\u001b[0m\n\u001b[0;32m----> 9\u001b[0;31m \u001b[0;32mimport\u001b[0m \u001b[0measygui\u001b[0m \u001b[0;32mas\u001b[0m \u001b[0mg\u001b[0m\u001b[0;34m\u001b[0m\u001b[0m\n\u001b[0m",
      "\u001b[0;31mImportError\u001b[0m: No module named easygui"
     ]
    }
   ],
   "source": [
    "import os\n",
    "\n",
    "from h5py import File\n",
    "import numpy as np\n",
    "\n",
    "import easygui as g"
   ]
  },
  {
   "cell_type": "code",
   "execution_count": null,
   "metadata": {},
   "outputs": [],
   "source": [
    "title = 'Probe-file generator'\n",
    "msg = 'Open .h5 file'\n",
    "default = '/home/user/Desktop/Data'\n",
    "path = g.fileopenbox(msg,title,default)[:-2]"
   ]
  },
  {
   "cell_type": "code",
   "execution_count": 3,
   "metadata": {},
   "outputs": [],
   "source": [
    "u = File(path,'r')"
   ]
  },
  {
   "cell_type": "code",
   "execution_count": 142,
   "metadata": {},
   "outputs": [],
   "source": [
    "electrode_info = np.asarray(u['mapping']['channel','electrode'])\n",
    "mask = electrode_info['electrode']!=-1\n",
    "clean_rel_inds = electrode_info['channel'][mask]"
   ]
  },
  {
   "cell_type": "code",
   "execution_count": 143,
   "metadata": {},
   "outputs": [],
   "source": [
    "#The cordinates in um have an offset\n",
    "x_cors = u['mapping']['x']-175\n",
    "y_cors = u['mapping']['y']-157"
   ]
  },
  {
   "cell_type": "code",
   "execution_count": 11,
   "metadata": {},
   "outputs": [],
   "source": [
    "#Alternatively calculation of the coordinates\n",
    "#x = (electrode_info['electrode']%220)*17.5 #To get same result as above: np.floor()\n",
    "#y = (electrode_info['electrode']/220)*17.5 #To get same result as above: np.ceil()"
   ]
  },
  {
   "cell_type": "code",
   "execution_count": 144,
   "metadata": {},
   "outputs": [],
   "source": [
    "channel_groups    = {1 : {}}\n",
    "channel_groups[1][\"geometry\"] = {i:[x_cors[i],y_cors[i]] for i in list(range(1024))}"
   ]
  },
  {
   "cell_type": "code",
   "execution_count": 145,
   "metadata": {},
   "outputs": [
    {
     "name": "stdout",
     "output_type": "stream",
     "text": [
      "/home/user/Desktop/Data/2018-4-10/2018/Stimulation/Spyking_circus_results_ID_2018/configstructure_001\n"
     ]
    }
   ],
   "source": [
    "MEA_ID = [s for s in path.split('/') if s.isdigit()][0]\n",
    "\n",
    "sp_c_path = path.split('/')[:-1]\n",
    "sp_c_path.append('Spyking_circus_results_ID_'+MEA_ID)\n",
    "sp_c_path.append(path.split('/')[-1].strip('.raw.h5'))\n",
    "\n",
    "outputdir = '/'.join(sp_c_path)\n",
    "\n",
    "try:\n",
    "        os.makedirs(outputdir)\n",
    "except:\n",
    "        pass\n",
    "\n",
    "print outputdir"
   ]
  },
  {
   "cell_type": "code",
   "execution_count": 146,
   "metadata": {},
   "outputs": [],
   "source": [
    "probefile = open(outputdir+'/probe.prb','w')"
   ]
  },
  {
   "cell_type": "code",
   "execution_count": 147,
   "metadata": {},
   "outputs": [],
   "source": [
    "probefile.write('total_nb_channels = 1024\\nradius    = 250\\n')\n",
    "probefile.write('channel_groups    = {1 : {}}\\n\\n')\n",
    "probefile.write('channels = '+str(clean_rel_inds.tolist())+'\\n\\n')\n",
    "probefile.write('channel_groups[1][\"channels\"] = channels\\nchannel_groups[1][\"graph\"]    = []\\n\\n')\n",
    "probefile.write('channel_groups[1][\"geometry\"] = '+str(channel_groups))\n",
    "probefile.close()"
   ]
  },
  {
   "cell_type": "code",
   "execution_count": 105,
   "metadata": {},
   "outputs": [
    {
     "name": "stdout",
     "output_type": "stream",
     "text": [
      "total_nb_channels       = 1024\n",
      " radius         = 1024\n",
      "\n"
     ]
    }
   ],
   "source": [
    "print 'total_nb_channels\\t= 1024\\n')radius \\t= 1024\\n'.expandtabs(8)"
   ]
  },
  {
   "cell_type": "code",
   "execution_count": null,
   "metadata": {},
   "outputs": [],
   "source": []
  }
 ],
 "metadata": {
  "kernelspec": {
   "display_name": "Python 2",
   "language": "python",
   "name": "python2"
  },
  "language_info": {
   "codemirror_mode": {
    "name": "ipython",
    "version": 2
   },
   "file_extension": ".py",
   "mimetype": "text/x-python",
   "name": "python",
   "nbconvert_exporter": "python",
   "pygments_lexer": "ipython2",
   "version": "2.7.14"
  }
 },
 "nbformat": 4,
 "nbformat_minor": 2
}

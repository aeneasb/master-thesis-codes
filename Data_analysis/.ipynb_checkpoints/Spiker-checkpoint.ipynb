{
 "cells": [
  {
   "cell_type": "code",
   "execution_count": null,
   "metadata": {},
   "outputs": [],
   "source": [
    "from scipy.spatial import cKDTree\n",
    "import numpy as np\n",
    "\n",
    "def spiker(threshold_factor,time_threshold,data,time):\n",
    "    '''\n",
    "    This spike detector looks at positive spikes only. You can do post-treatment to reconstruct the full-spike\n",
    "    later from the returned time stamps.\n",
    "\n",
    "    data: filtered (bandpass) data, not raw. needs to be reasonably flat and centered around 0.\n",
    "    threshold: factor which will be multiplied to std for thresholding. So any data point above 'threshold' is considered.\n",
    "    time_threshold: time interval (in seconds) inside which the largest spike counts as 'the spike'.\n",
    "    time: time  of data.\n",
    "    '''\n",
    "    \n",
    "    std_filt = np.std(data[10000:-5000])\n",
    "    threshold = std_filt*threshold_factor\n",
    "    \n",
    "    over_threshold_islets=np.where(data[10000:-5000]>threshold)[0]\n",
    "    #Return empty  list if no threshold crossings\n",
    "    if (over_threshold_islets.size and over_threshold_islets.size != 1):\n",
    "        #most-left indices of putative spikes\n",
    "        islet_edges=np.hstack((0,np.asarray([1+el for el in np.where(np.diff(over_threshold_islets)!=1)[0]])))\n",
    "        #Following processing can only be done if there is more than one spike\n",
    "        if islet_edges.size != 1:\n",
    "            islet_list=[over_threshold_islets[islet_edges[i]:islet_edges[i+1]] for i in range(len(islet_edges)-1)]\n",
    "            islet_list.append(np.asarray(over_threshold_islets[islet_edges[-1]:]))\n",
    "            maxima=np.asarray([np.argmax(data[10000:-5000][el])+el[0] for el in islet_list])\n",
    "            val_tree=np.vstack( (np.zeros(len(maxima)),time[maxima] ) ).T\n",
    "            stamp_kdTree=cKDTree(val_tree)\n",
    "            too_close_tuplets=stamp_kdTree.query_ball_point(val_tree,r=time_threshold)\n",
    "            real_maxima=maxima[np.unique([el[np.argmax(data[10000:-5000][maxima[el]])] for el in too_close_tuplets])]+10000\n",
    "            real_maxima = real_maxima.tolist()\n",
    "        else: \n",
    "            real_maxima = [over_threshold_islets[0]+10000]\n",
    "    else:\n",
    "        real_maxima = None\n",
    "            \n",
    "    return real_maxima"
   ]
  }
 ],
 "metadata": {
  "kernelspec": {
   "display_name": "Python 2",
   "language": "python",
   "name": "python2"
  },
  "language_info": {
   "codemirror_mode": {
    "name": "ipython",
    "version": 2
   },
   "file_extension": ".py",
   "mimetype": "text/x-python",
   "name": "python",
   "nbconvert_exporter": "python",
   "pygments_lexer": "ipython2",
   "version": "2.7.14"
  }
 },
 "nbformat": 4,
 "nbformat_minor": 2
}

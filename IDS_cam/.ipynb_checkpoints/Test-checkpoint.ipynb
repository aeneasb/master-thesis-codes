{
 "cells": [
  {
   "cell_type": "code",
   "execution_count": null,
   "metadata": {
    "collapsed": true
   },
   "outputs": [],
   "source": [
    "import numpy as np\n",
    "import datetime\n",
    "import os\n",
    "import ids\n",
    "from PIL import Image\n",
    "import time\n",
    "import tifffile\n",
    "\n",
    "import serial\n",
    "with serial.Serial('/dev/ttyACM0', timeout=1) as ser:\n",
    "    x = ser.read()\n",
    "    s = ser.read(10)\n",
    "    line = ser.readline()\n",
    "ser.open()"
   ]
  }
 ],
 "metadata": {
  "kernelspec": {
   "display_name": "Python 2",
   "language": "python",
   "name": "python2"
  },
  "language_info": {
   "codemirror_mode": {
    "name": "ipython",
    "version": 2
   },
   "file_extension": ".py",
   "mimetype": "text/x-python",
   "name": "python",
   "nbconvert_exporter": "python",
   "pygments_lexer": "ipython2",
   "version": "2.7.13"
  }
 },
 "nbformat": 4,
 "nbformat_minor": 2
}

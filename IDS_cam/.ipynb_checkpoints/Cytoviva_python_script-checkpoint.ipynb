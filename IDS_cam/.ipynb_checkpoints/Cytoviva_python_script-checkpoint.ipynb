{
 "cells": [
  {
   "cell_type": "code",
   "execution_count": null,
   "metadata": {
    "collapsed": true
   },
   "outputs": [],
   "source": [
    "import matplotlib.pyplot as plt\n",
    "%matplotlib inline\n",
    "import numpy as np\n",
    "import datetime\n",
    "import os\n",
    "import ids\n",
    "from PIL import Image\n",
    "import time\n",
    "import tifffile\n",
    "\n",
    "import serial\n",
    "with serial.Serial('/dev/ttyACM0', timeout=1) as ser:\n",
    "    x = ser.read()\n",
    "    s = ser.read(10)\n",
    "    line = ser.readline()\n",
    "ser.open()\n",
    "\n",
    "cam = ids.Camera()\n",
    "cam.color_mode = ids.ids_core.COLOR_RGB8\n",
    "cam.exposure = 5\n",
    "cam.auto_exposure=True\n",
    "\n",
    "cam.continuous_capture = True\n",
    "img,meta=cam.next()\n",
    "cam.continuous_capture = False\n",
    "\n",
    "time.sleep(2)\n",
    "ser.write(b'GR,196000,0\\r\\n')\n",
    "time.sleep(2)\n",
    "\n",
    "cam.continuous_capture = True\n",
    "img2,meta=cam.next()\n",
    "cam.continuous_capture = False"
   ]
  }
 ],
 "metadata": {
  "kernelspec": {
   "display_name": "Python 2",
   "language": "python",
   "name": "python2"
  },
  "language_info": {
   "codemirror_mode": {
    "name": "ipython",
    "version": 2
   },
   "file_extension": ".py",
   "mimetype": "text/x-python",
   "name": "python",
   "nbconvert_exporter": "python",
   "pygments_lexer": "ipython2",
   "version": "2.7.13"
  }
 },
 "nbformat": 4,
 "nbformat_minor": 2
}
